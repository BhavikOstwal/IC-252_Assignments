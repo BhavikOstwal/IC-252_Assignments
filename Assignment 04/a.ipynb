{
 "cells": [
  {
   "cell_type": "code",
   "execution_count": 123,
   "metadata": {},
   "outputs": [],
   "source": [
    "import pandas as pd\n",
    "import numpy as np\n",
    "import matplotlib.pyplot as plt\n",
    "import random"
   ]
  },
  {
   "cell_type": "code",
   "execution_count": 133,
   "metadata": {},
   "outputs": [],
   "source": [
    "joint_prob = {\n",
    "    \"T-Shirt\":[0.1,0.05,0.1],\n",
    "    \"Sweater\":[0.05,0.1,0.2],\n",
    "    \"Jacket\":[0.1,0.2,0.1]\n",
    "}"
   ]
  },
  {
   "cell_type": "code",
   "execution_count": 134,
   "metadata": {},
   "outputs": [
    {
     "data": {
      "text/html": [
       "<div>\n",
       "<style scoped>\n",
       "    .dataframe tbody tr th:only-of-type {\n",
       "        vertical-align: middle;\n",
       "    }\n",
       "\n",
       "    .dataframe tbody tr th {\n",
       "        vertical-align: top;\n",
       "    }\n",
       "\n",
       "    .dataframe thead th {\n",
       "        text-align: right;\n",
       "    }\n",
       "</style>\n",
       "<table border=\"1\" class=\"dataframe\">\n",
       "  <thead>\n",
       "    <tr style=\"text-align: right;\">\n",
       "      <th></th>\n",
       "      <th>T-Shirt</th>\n",
       "      <th>Sweater</th>\n",
       "      <th>Jacket</th>\n",
       "    </tr>\n",
       "  </thead>\n",
       "  <tbody>\n",
       "    <tr>\n",
       "      <th>Sunny</th>\n",
       "      <td>0.10</td>\n",
       "      <td>0.05</td>\n",
       "      <td>0.1</td>\n",
       "    </tr>\n",
       "    <tr>\n",
       "      <th>Rainy</th>\n",
       "      <td>0.05</td>\n",
       "      <td>0.10</td>\n",
       "      <td>0.2</td>\n",
       "    </tr>\n",
       "    <tr>\n",
       "      <th>Cloudy</th>\n",
       "      <td>0.10</td>\n",
       "      <td>0.20</td>\n",
       "      <td>0.1</td>\n",
       "    </tr>\n",
       "  </tbody>\n",
       "</table>\n",
       "</div>"
      ],
      "text/plain": [
       "        T-Shirt  Sweater  Jacket\n",
       "Sunny      0.10     0.05     0.1\n",
       "Rainy      0.05     0.10     0.2\n",
       "Cloudy     0.10     0.20     0.1"
      ]
     },
     "execution_count": 134,
     "metadata": {},
     "output_type": "execute_result"
    }
   ],
   "source": [
    "df = pd.DataFrame(joint_prob,index=['Sunny', 'Rainy', 'Cloudy'])\n",
    "# df.to_csv('joint_prob.csv')\n",
    "df"
   ]
  },
  {
   "cell_type": "code",
   "execution_count": 135,
   "metadata": {},
   "outputs": [],
   "source": [
    "df['F_Y(y)'] = pd.Series(df.sum(axis=1))\n",
    "df.loc['F_X(x)'] = pd.Series(df.sum(axis=0))"
   ]
  },
  {
   "cell_type": "code",
   "execution_count": 136,
   "metadata": {},
   "outputs": [
    {
     "data": {
      "text/html": [
       "<div>\n",
       "<style scoped>\n",
       "    .dataframe tbody tr th:only-of-type {\n",
       "        vertical-align: middle;\n",
       "    }\n",
       "\n",
       "    .dataframe tbody tr th {\n",
       "        vertical-align: top;\n",
       "    }\n",
       "\n",
       "    .dataframe thead th {\n",
       "        text-align: right;\n",
       "    }\n",
       "</style>\n",
       "<table border=\"1\" class=\"dataframe\">\n",
       "  <thead>\n",
       "    <tr style=\"text-align: right;\">\n",
       "      <th></th>\n",
       "      <th>T-Shirt</th>\n",
       "      <th>Sweater</th>\n",
       "      <th>Jacket</th>\n",
       "      <th>F_Y(y)</th>\n",
       "    </tr>\n",
       "  </thead>\n",
       "  <tbody>\n",
       "    <tr>\n",
       "      <th>Sunny</th>\n",
       "      <td>0.10</td>\n",
       "      <td>0.05</td>\n",
       "      <td>0.1</td>\n",
       "      <td>0.25</td>\n",
       "    </tr>\n",
       "    <tr>\n",
       "      <th>Rainy</th>\n",
       "      <td>0.05</td>\n",
       "      <td>0.10</td>\n",
       "      <td>0.2</td>\n",
       "      <td>0.35</td>\n",
       "    </tr>\n",
       "    <tr>\n",
       "      <th>Cloudy</th>\n",
       "      <td>0.10</td>\n",
       "      <td>0.20</td>\n",
       "      <td>0.1</td>\n",
       "      <td>0.40</td>\n",
       "    </tr>\n",
       "    <tr>\n",
       "      <th>F_X(x)</th>\n",
       "      <td>0.25</td>\n",
       "      <td>0.35</td>\n",
       "      <td>0.4</td>\n",
       "      <td>1.00</td>\n",
       "    </tr>\n",
       "  </tbody>\n",
       "</table>\n",
       "</div>"
      ],
      "text/plain": [
       "        T-Shirt  Sweater  Jacket  F_Y(y)\n",
       "Sunny      0.10     0.05     0.1    0.25\n",
       "Rainy      0.05     0.10     0.2    0.35\n",
       "Cloudy     0.10     0.20     0.1    0.40\n",
       "F_X(x)     0.25     0.35     0.4    1.00"
      ]
     },
     "execution_count": 136,
     "metadata": {},
     "output_type": "execute_result"
    }
   ],
   "source": [
    "# df.to_csv('marginal_prob.csv')\n",
    "df"
   ]
  },
  {
   "cell_type": "code",
   "execution_count": 137,
   "metadata": {},
   "outputs": [],
   "source": [
    "clothing_choice = [\"T-Shirt\", \"Sweater\", \"Jacket\"]\n",
    "weather = ['Sunny', 'Rainy', 'Cloudy']\n",
    "\n"
   ]
  },
  {
   "cell_type": "code",
   "execution_count": 143,
   "metadata": {},
   "outputs": [
    {
     "data": {
      "text/plain": [
       "0.191041"
      ]
     },
     "execution_count": 143,
     "metadata": {},
     "output_type": "execute_result"
    }
   ],
   "source": [
    "def choose_with_dependent_bias(item_from_list1):\n",
    "    probabilities = joint_prob[item_from_list1]\n",
    "    return random.choices(weather, probabilities, k=1)[0]\n",
    "\n",
    "\n",
    "lst = []\n",
    "for i in range(1000000):\n",
    "    a = np.random.choice(clothing_choice)\n",
    "    lst.append((a,choose_with_dependent_bias(a)))\n",
    "    \n",
    "\n",
    "    \n",
    "freq = lst.count(('Sweater', 'Cloudy'))/1000000\n",
    "freq"
   ]
  },
  {
   "cell_type": "code",
   "execution_count": 145,
   "metadata": {},
   "outputs": [
    {
     "name": "stdout",
     "output_type": "stream",
     "text": [
      "Column Names  A  B  C\n",
      "0             1  4  7\n",
      "1             2  5  8\n",
      "2             3  6  9\n"
     ]
    }
   ],
   "source": [
    "\n",
    "df = df.rename_axis('Row Names', axis='index').rename_axis('Column Names', axis='columns')\n"
   ]
  },
  {
   "cell_type": "code",
   "execution_count": 148,
   "metadata": {},
   "outputs": [
    {
     "name": "stdout",
     "output_type": "stream",
     "text": [
      "X      0      1        2\n",
      "Y                       \n",
      "0  0.081  0.513  0.27075\n",
      "1  0.018  0.084  0.02850\n",
      "2  0.001  0.003  0.00075\n"
     ]
    }
   ],
   "source": [
    "\n",
    "dict = {\n",
    "    0:[0.081,0.018,0.001],\n",
    "    1:[0.513,0.084,0.003],\n",
    "    2:[0.27075,0.0285,0.00075]\n",
    "}\n",
    "\n",
    "df = pd.DataFrame(dict)\n",
    "\n",
    "\n",
    "df = df.rename_axis('Y', axis='index').rename_axis('X', axis='columns')\n",
    "\n",
    "print(df)"
   ]
  },
  {
   "cell_type": "code",
   "execution_count": null,
   "metadata": {},
   "outputs": [],
   "source": []
  }
 ],
 "metadata": {
  "kernelspec": {
   "display_name": "Python 3",
   "language": "python",
   "name": "python3"
  },
  "language_info": {
   "codemirror_mode": {
    "name": "ipython",
    "version": 3
   },
   "file_extension": ".py",
   "mimetype": "text/x-python",
   "name": "python",
   "nbconvert_exporter": "python",
   "pygments_lexer": "ipython3",
   "version": "3.12.2"
  }
 },
 "nbformat": 4,
 "nbformat_minor": 2
}
