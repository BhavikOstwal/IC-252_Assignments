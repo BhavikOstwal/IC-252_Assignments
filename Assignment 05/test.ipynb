{
 "cells": [
  {
   "cell_type": "code",
   "execution_count": 39,
   "metadata": {},
   "outputs": [
    {
     "data": {
      "text/plain": [
       "array(['IN', 'India', 'Arunachal Pradesh', nan, nan, 'IN-AR', nan,\n",
       "       'ChIJJ3IcakZDQDcR8pKaL1VutXY', '2021-04-01', -28.0, 18.0, 9.0,\n",
       "       -14.0, -18.0, 5.0], dtype=object)"
      ]
     },
     "execution_count": 39,
     "metadata": {},
     "output_type": "execute_result"
    }
   ],
   "source": [
    "import numpy as np\n",
    "import pandas as pd\n",
    "import matplotlib.pyplot as plt\n",
    "\n",
    "\n",
    "file = pd.read_csv(\"2021_IN_Region_Mobility_Report.csv\")\n",
    "\n",
    "file = file[6582:6632]\n",
    "mob = file.iloc[0].to_numpy()\n",
    "mob\n",
    "# mob = mob[9:]\n",
    "# print(days)\n",
    "\n"
   ]
  },
  {
   "cell_type": "code",
   "execution_count": 32,
   "metadata": {},
   "outputs": [
    {
     "data": {
      "text/plain": [
       "50"
      ]
     },
     "execution_count": 32,
     "metadata": {},
     "output_type": "execute_result"
    }
   ],
   "source": [
    "6632-6582"
   ]
  },
  {
   "cell_type": "code",
   "execution_count": 13,
   "metadata": {},
   "outputs": [
    {
     "name": "stdout",
     "output_type": "stream",
     "text": [
      "0.392765\n"
     ]
    }
   ],
   "source": [
    "def Integral_sim(n):\n",
    "    count = 0\n",
    "    for i in range(n):\n",
    "        x = np.random.uniform(0,1+1e-5)\n",
    "        y = np.random.uniform(0,1+1e-5)\n",
    "        if y<=f(x):\n",
    "            count+=1\n",
    "    return count/n\n",
    "\n",
    "print(Integral_sim(1000000))\n"
   ]
  },
  {
   "cell_type": "code",
   "execution_count": null,
   "metadata": {},
   "outputs": [],
   "source": []
  }
 ],
 "metadata": {
  "kernelspec": {
   "display_name": "Python 3",
   "language": "python",
   "name": "python3"
  },
  "language_info": {
   "codemirror_mode": {
    "name": "ipython",
    "version": 3
   },
   "file_extension": ".py",
   "mimetype": "text/x-python",
   "name": "python",
   "nbconvert_exporter": "python",
   "pygments_lexer": "ipython3",
   "version": "3.12.2"
  }
 },
 "nbformat": 4,
 "nbformat_minor": 2
}
