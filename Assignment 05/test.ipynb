{
 "cells": [
  {
   "cell_type": "code",
   "execution_count": 3,
   "metadata": {},
   "outputs": [
    {
     "data": {
      "text/plain": [
       "<bound method DataFrame.info of        country_region_code country_region sub_region_1    sub_region_2  \\\n",
       "0                       IN          India          NaN             NaN   \n",
       "1                       IN          India          NaN             NaN   \n",
       "2                       IN          India          NaN             NaN   \n",
       "3                       IN          India          NaN             NaN   \n",
       "4                       IN          India          NaN             NaN   \n",
       "...                    ...            ...          ...             ...   \n",
       "244444                  IN          India  West Bengal  West Medinipur   \n",
       "244445                  IN          India  West Bengal  West Medinipur   \n",
       "244446                  IN          India  West Bengal  West Medinipur   \n",
       "244447                  IN          India  West Bengal  West Medinipur   \n",
       "244448                  IN          India  West Bengal  West Medinipur   \n",
       "\n",
       "        metro_area iso_3166_2_code  census_fips_code  \\\n",
       "0              NaN             NaN               NaN   \n",
       "1              NaN             NaN               NaN   \n",
       "2              NaN             NaN               NaN   \n",
       "3              NaN             NaN               NaN   \n",
       "4              NaN             NaN               NaN   \n",
       "...            ...             ...               ...   \n",
       "244444         NaN             NaN               NaN   \n",
       "244445         NaN             NaN               NaN   \n",
       "244446         NaN             NaN               NaN   \n",
       "244447         NaN             NaN               NaN   \n",
       "244448         NaN             NaN               NaN   \n",
       "\n",
       "                           place_id        date  \\\n",
       "0       ChIJkbeSa_BfYzARphNChaFPjNc  2021-01-01   \n",
       "1       ChIJkbeSa_BfYzARphNChaFPjNc  2021-01-02   \n",
       "2       ChIJkbeSa_BfYzARphNChaFPjNc  2021-01-03   \n",
       "3       ChIJkbeSa_BfYzARphNChaFPjNc  2021-01-04   \n",
       "4       ChIJkbeSa_BfYzARphNChaFPjNc  2021-01-05   \n",
       "...                             ...         ...   \n",
       "244444  ChIJJXVMlY9CHToR4mlOVIq_xDQ  2021-12-27   \n",
       "244445  ChIJJXVMlY9CHToR4mlOVIq_xDQ  2021-12-28   \n",
       "244446  ChIJJXVMlY9CHToR4mlOVIq_xDQ  2021-12-29   \n",
       "244447  ChIJJXVMlY9CHToR4mlOVIq_xDQ  2021-12-30   \n",
       "244448  ChIJJXVMlY9CHToR4mlOVIq_xDQ  2021-12-31   \n",
       "\n",
       "        retail_and_recreation_percent_change_from_baseline  \\\n",
       "0                                                   -23.0    \n",
       "1                                                   -31.0    \n",
       "2                                                   -32.0    \n",
       "3                                                   -28.0    \n",
       "4                                                   -29.0    \n",
       "...                                                   ...    \n",
       "244444                                               11.0    \n",
       "244445                                               11.0    \n",
       "244446                                               10.0    \n",
       "244447                                               14.0    \n",
       "244448                                               20.0    \n",
       "\n",
       "        grocery_and_pharmacy_percent_change_from_baseline  \\\n",
       "0                                                    11.0   \n",
       "1                                                     7.0   \n",
       "2                                                     1.0   \n",
       "3                                                     9.0   \n",
       "4                                                     7.0   \n",
       "...                                                   ...   \n",
       "244444                                               47.0   \n",
       "244445                                               44.0   \n",
       "244446                                               49.0   \n",
       "244447                                               50.0   \n",
       "244448                                               58.0   \n",
       "\n",
       "        parks_percent_change_from_baseline  \\\n",
       "0                                     -6.0   \n",
       "1                                    -19.0   \n",
       "2                                    -13.0   \n",
       "3                                    -17.0   \n",
       "4                                    -18.0   \n",
       "...                                    ...   \n",
       "244444                                57.0   \n",
       "244445                                56.0   \n",
       "244446                                44.0   \n",
       "244447                                39.0   \n",
       "244448                                52.0   \n",
       "\n",
       "        transit_stations_percent_change_from_baseline  \\\n",
       "0                                               -11.0   \n",
       "1                                               -10.0   \n",
       "2                                                -5.0   \n",
       "3                                                -9.0   \n",
       "4                                               -10.0   \n",
       "...                                               ...   \n",
       "244444                                            8.0   \n",
       "244445                                            9.0   \n",
       "244446                                           18.0   \n",
       "244447                                           16.0   \n",
       "244448                                           18.0   \n",
       "\n",
       "        workplaces_percent_change_from_baseline  \\\n",
       "0                                         -29.0   \n",
       "1                                          -8.0   \n",
       "2                                           0.0   \n",
       "3                                         -16.0   \n",
       "4                                         -19.0   \n",
       "...                                         ...   \n",
       "244444                                     13.0   \n",
       "244445                                     13.0   \n",
       "244446                                     22.0   \n",
       "244447                                     28.0   \n",
       "244448                                     18.0   \n",
       "\n",
       "        residential_percent_change_from_baseline  \n",
       "0                                           14.0  \n",
       "1                                           11.0  \n",
       "2                                           10.0  \n",
       "3                                           12.0  \n",
       "4                                           12.0  \n",
       "...                                          ...  \n",
       "244444                                      10.0  \n",
       "244445                                      10.0  \n",
       "244446                                       9.0  \n",
       "244447                                      12.0  \n",
       "244448                                      10.0  \n",
       "\n",
       "[244449 rows x 15 columns]>"
      ]
     },
     "execution_count": 3,
     "metadata": {},
     "output_type": "execute_result"
    }
   ],
   "source": [
    "import pandas as pd\n",
    "import numpy as np\n",
    "import matplotlib.pyplot as plt\n",
    "\n",
    "main_file = pd.read_csv(\"2021_IN_Region_Mobility_Report.csv\")\n",
    "\n",
    "file = main_file[90:140]\n",
    "\n",
    "# plt.figure(figsize=(18,13))\n",
    "\n",
    "columns = file.columns[9:]\n",
    "days = file['date'].to_numpy()\n",
    "a = days\n",
    "\n",
    "# prob_values = [0.2, 0.2, 0.02, 0.05, 0.03, 0.5]\n",
    "file[columns[0]]\n",
    "\n"
   ]
  },
  {
   "cell_type": "code",
   "execution_count": 32,
   "metadata": {},
   "outputs": [
    {
     "data": {
      "text/plain": [
       "50"
      ]
     },
     "execution_count": 32,
     "metadata": {},
     "output_type": "execute_result"
    }
   ],
   "source": [
    "6632-6582"
   ]
  },
  {
   "cell_type": "code",
   "execution_count": 13,
   "metadata": {},
   "outputs": [
    {
     "name": "stdout",
     "output_type": "stream",
     "text": [
      "0.392765\n"
     ]
    }
   ],
   "source": [
    "def Integral_sim(n):\n",
    "    count = 0\n",
    "    for i in range(n):\n",
    "        x = np.random.uniform(0,1+1e-5)\n",
    "        y = np.random.uniform(0,1+1e-5)\n",
    "        if y<=f(x):\n",
    "            count+=1\n",
    "    return count/n\n",
    "\n",
    "print(Integral_sim(1000000))\n"
   ]
  },
  {
   "cell_type": "code",
   "execution_count": null,
   "metadata": {},
   "outputs": [],
   "source": []
  }
 ],
 "metadata": {
  "kernelspec": {
   "display_name": "Python 3",
   "language": "python",
   "name": "python3"
  },
  "language_info": {
   "codemirror_mode": {
    "name": "ipython",
    "version": 3
   },
   "file_extension": ".py",
   "mimetype": "text/x-python",
   "name": "python",
   "nbconvert_exporter": "python",
   "pygments_lexer": "ipython3",
   "version": "3.12.2"
  }
 },
 "nbformat": 4,
 "nbformat_minor": 2
}
